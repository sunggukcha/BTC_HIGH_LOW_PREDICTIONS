{
 "cells": [
  {
   "cell_type": "code",
   "execution_count": 1,
   "id": "328fcb24",
   "metadata": {},
   "outputs": [],
   "source": [
    "import csv"
   ]
  },
  {
   "cell_type": "code",
   "execution_count": 2,
   "id": "8f8ebe96",
   "metadata": {},
   "outputs": [],
   "source": [
    "filenames = [\n",
    "    (\"sentiment_all_12hours.csv\", \"sent-all/12hours\"),\n",
    "    (\"sentiment_all_8hours.csv\", \"sent-all/8hours\"),\n",
    "    (\"sentiment_all_news_4hours.csv\", \"sent-all/4hours\"),\n",
    "    (\"no_neutral_12hours.csv\", \"12hours\"),\n",
    "    (\"no_neutral_8hours.csv\", \"8hours\"),\n",
    "    (\"sentiment_no_neutral_news_4hours.csv\", \"4hours\"),\n",
    "    (\"no_neutral_12hours_v2.csv\", \"12hours/v2\"),\n",
    "    (\"no_neutral_8hours_v2.csv\", \"8hours/v2\"),\n",
    "    (\"no_neutral_4hours_v2.csv\", \"4hours/v2\"),\n",
    "    (\"sentiment_all_12hours_v2.csv\", \"sent-all/12hours/v2\"),\n",
    "    (\"sentiment_all_8hours_v2.csv\", \"sent-all/8hours/v2\"),\n",
    "    (\"sentiment_all_4hours_v2.csv\", \"sent-all/4hours/v2\"),\n",
    "]\n",
    "results = []"
   ]
  },
  {
   "cell_type": "code",
   "execution_count": 3,
   "id": "1248a19d",
   "metadata": {},
   "outputs": [],
   "source": [
    "def resave(filename, comment):\n",
    "    lines = []\n",
    "    with open(filename) as csvfile:\n",
    "        reader = csv.reader(csvfile)\n",
    "        for row in reader:\n",
    "            lines.append(row)\n",
    "    for line in lines:\n",
    "        model = f\"{line[0]}-{comment}\"\n",
    "        for j, i in enumerate(range(1, len(line), 2)):\n",
    "            mse = line[i].split(' ')[-1]\n",
    "            mae = line[i+1].split(' ')[-1].split('}')[0]\n",
    "            result = [f\"{model}-{j}\",f\"{mse}\",f\"{mae}\"]\n",
    "            #print(result)\n",
    "            results.append(result)\n",
    "\n",
    "def _save():\n",
    "    saveas_high = f\"highs.csv\"\n",
    "    with open(saveas_high, 'w') as csvfile:\n",
    "        writer = csv.writer(csvfile)\n",
    "        for result in results:\n",
    "            if 'high' in result[0]:\n",
    "                writer.writerow(result)\n",
    "\n",
    "    saveas_low = f\"lows.csv\"\n",
    "    with open(saveas_low, 'w') as csvfile:\n",
    "        writer = csv.writer(csvfile)\n",
    "        for result in results:\n",
    "            if 'low' in result[0]:\n",
    "                writer.writerow(result)"
   ]
  },
  {
   "cell_type": "code",
   "execution_count": 4,
   "id": "b20888a2",
   "metadata": {},
   "outputs": [],
   "source": [
    "for filename, comment in filenames:\n",
    "    resave(filename, comment)\n",
    "_save()"
   ]
  }
 ],
 "metadata": {
  "kernelspec": {
   "display_name": "Python 3 (ipykernel)",
   "language": "python",
   "name": "python3"
  },
  "language_info": {
   "codemirror_mode": {
    "name": "ipython",
    "version": 3
   },
   "file_extension": ".py",
   "mimetype": "text/x-python",
   "name": "python",
   "nbconvert_exporter": "python",
   "pygments_lexer": "ipython3",
   "version": "3.8.5"
  }
 },
 "nbformat": 4,
 "nbformat_minor": 5
}
