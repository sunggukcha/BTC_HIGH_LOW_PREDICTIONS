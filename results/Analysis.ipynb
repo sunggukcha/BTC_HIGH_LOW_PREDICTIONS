{
 "cells": [
  {
   "cell_type": "code",
   "execution_count": 1,
   "id": "ea1c1061",
   "metadata": {},
   "outputs": [],
   "source": [
    "import csv\n",
    "\n",
    "import numpy as np"
   ]
  },
  {
   "cell_type": "code",
   "execution_count": 2,
   "id": "aba3b26a",
   "metadata": {},
   "outputs": [],
   "source": [
    "filenames = [\n",
    "    [\"default_v3.csv\", \"default_v3\"],\n",
    "    [\"sent-4hours-v3.csv\", \"sent_4hours_v3\"],\n",
    "    [\"4hours-v3.csv\", \"4hours_v3\"],\n",
    "    [\"sent-8hours-v3.csv\", \"sent_8hours_v3\"],\n",
    "    [\"8hours-v3.csv\", \"8hours_v3\"],\n",
    "]\n",
    "models = ['default', 'gt', 'bert', 'deberta', 'roberta']\n",
    "hours = ['4', '8', '12']\n",
    "results = []"
   ]
  },
  {
   "cell_type": "code",
   "execution_count": 3,
   "id": "8fccd6ea",
   "metadata": {},
   "outputs": [],
   "source": [
    "def load(filename, comment):\n",
    "    hour = \"\"\n",
    "    for h in hours:\n",
    "        if h in comment:\n",
    "            hour = h\n",
    "    sent = 'O' if 'sent' in comment else ''\n",
    "    v2 = 'O' if 'v3' in comment else ''\n",
    "    lines = []\n",
    "    with open(filename) as csvfile:\n",
    "        reader = csv.reader(csvfile)\n",
    "        for row in reader:\n",
    "            lines.append(row)\n",
    "    for line in lines:\n",
    "        model = line[0]\n",
    "        mses = []\n",
    "        maes = []\n",
    "        \"\"\"\n",
    "        for m in models:\n",
    "            if m in line[0]:\n",
    "                model = m\n",
    "        isHigh = True if 'high' in line[0] else False\n",
    "        \"\"\"\n",
    "        for j, i in enumerate(range(1, len(line), 2)):\n",
    "            mse = line[i].split(' ')[-1]\n",
    "            mae = line[i+1].split(' ')[-1].split('}')[0]\n",
    "            mses.append(float(mse))\n",
    "            maes.append(float(mae))\n",
    "        n = len(mses)\n",
    "        mse_mean = sum(mses)/n \n",
    "        variance = sum([((x - mse_mean) ** 2) for x in mses]) / n\n",
    "        mse_std = variance ** 0.5\n",
    "\n",
    "        n = len(mses)\n",
    "        mae_mean = sum(maes)/n \n",
    "        variance = sum([((x - mae_mean) ** 2) for x in maes]) / n\n",
    "        mae_std = variance ** 0.5\n",
    "\n",
    "        result = [model.split('-')[-1], model.split('-')[0], sent, hour, v2, mse_mean, mse_std, mae_mean, mae_std]\n",
    "        results.append(result)\n",
    "\n",
    "def _save():\n",
    "    saveas_high = f\"high-anal.csv\"\n",
    "    with open(saveas_high, 'w') as csvfile:\n",
    "        writer = csv.writer(csvfile)\n",
    "        for result in results:\n",
    "            if 'high' in result[0]:\n",
    "                writer.writerow(result[1:])\n",
    "\n",
    "    saveas_low = f\"low-anal.csv\"\n",
    "    with open(saveas_low, 'w') as csvfile:\n",
    "        writer = csv.writer(csvfile)\n",
    "        for result in results:\n",
    "            if 'low' in result[0]:\n",
    "                writer.writerow(result[1:])"
   ]
  },
  {
   "cell_type": "code",
   "execution_count": 4,
   "id": "3ee02bec",
   "metadata": {},
   "outputs": [],
   "source": [
    "for filename, comment in filenames:\n",
    "    load(filename, comment)\n",
    "_save()"
   ]
  },
  {
   "cell_type": "code",
   "execution_count": 5,
   "id": "6950e1c4",
   "metadata": {},
   "outputs": [
    {
     "name": "stdout",
     "output_type": "stream",
     "text": [
      "[['high', 'default', '', '', 'O', 0.00010128859761890118, 2.1729582313568384e-06, 0.0072214269375379305, 0.00017857579905173354], ['low', 'default', '', '', 'O', 0.0001372848913602089, 3.198747047214997e-06, 0.007690103297898883, 0.00024116837969009227], ['high', 'deberta', 'O', '4', 'O', 0.00010239999557472388, 3.2880163529077493e-06, 0.0071991375998774875, 0.00014418247337130363], ['low', 'deberta', 'O', '4', 'O', 0.00013887306886265334, 3.884360741947913e-06, 0.007669974712917425, 0.00018049186613223792], ['high', 'roberta', 'O', '4', 'O', 0.00011316025951297505, 2.768132248434762e-05, 0.007318351660035307, 0.0002466945322016916], ['low', 'roberta', 'O', '4', 'O', 0.0001401315614726343, 4.700814569197223e-06, 0.0077577722648249445, 0.00016264870660864076], ['high', 'bert', 'O', '4', 'O', 0.00010182894314623815, 3.2004393485562964e-06, 0.0071234597411445905, 0.00022264769205353413], ['low', 'bert', 'O', '4', 'O', 0.00013948873573698268, 5.182284691091761e-06, 0.007705242119093332, 0.00013308284922197383], ['high', 'deberta', '', '4', 'O', 0.00010183165429378416, 3.188621015994074e-06, 0.007090103767826689, 0.00016602407085998023], ['low', 'deberta', '', '4', 'O', 0.000140005399504742, 3.989940879989887e-06, 0.007712173139283805, 0.00013679901530579193], ['high', 'roberta', '', '4', 'O', 0.00010347857954574316, 3.7741144463921327e-06, 0.0072077860048021, 0.00022921410996936818], ['low', 'roberta', '', '4', 'O', 0.00014007983676828152, 4.923791512052722e-06, 0.007764651331970194, 0.00013134021154276218], ['high', 'bert', '', '4', 'O', 0.00010382195244008805, 2.733748841186905e-06, 0.007204444261326058, 0.00019601552497576502], ['low', 'bert', '', '4', 'O', 0.0001402177405647323, 4.611713349533422e-06, 0.007636858495428482, 0.0001676442377049984], ['high', 'deberta', 'O', '8', 'O', 0.00010376996571379775, 3.0768523643644183e-06, 0.007223488621390181, 0.0002111723825572479], ['low', 'deberta', 'O', '8', 'O', 0.00013950264808954195, 2.8845307325173497e-06, 0.0077443785757464745, 0.00015584501449749137], ['high', 'roberta', 'O', '8', 'O', 0.00010358641354346187, 3.3520161633051094e-06, 0.007188363616877194, 0.00021708772019198632], ['low', 'roberta', 'O', '8', 'O', 0.00014028540176041663, 4.068846938590936e-06, 0.007764122686450771, 0.00022475608494838852], ['high', 'bert', 'O', '8', 'O', 0.00010216260977424203, 3.149583547668622e-06, 0.00712696434339358, 0.0001613343387851168], ['low', 'bert', 'O', '8', 'O', 0.00013878235503732926, 3.01011872030358e-06, 0.00764695800773605, 0.00018837849945543212], ['high', 'deberta', '', '8', 'O', 0.0001024977464734653, 3.996242129383864e-06, 0.0071774646301021915, 0.00031287029609452653], ['low', 'deberta', '', '8', 'O', 0.0001413836081131068, 6.07829296656583e-06, 0.007690951060516119, 0.00022557345484404187], ['high', 'roberta', '', '8', 'O', 0.00010270884775289274, 2.0728259542195617e-06, 0.007160371177122848, 0.00022425059195905174], ['low', 'roberta', '', '8', 'O', 0.0001427522988974912, 5.935971154580183e-06, 0.007791087556760721, 0.00023008925502261926], ['high', 'bert', '', '8', 'O', 0.00010205141401688619, 1.4909407686365455e-06, 0.007108572552203192, 0.00013001736091809067], ['low', 'bert', '', '8', 'O', 0.000139105489901664, 3.7329182515809305e-06, 0.007639039077074007, 0.00015025442999906552]]\n"
     ]
    }
   ],
   "source": [
    "print(results)"
   ]
  },
  {
   "cell_type": "code",
   "execution_count": null,
   "id": "18cd41fc",
   "metadata": {},
   "outputs": [],
   "source": []
  },
  {
   "cell_type": "code",
   "execution_count": null,
   "id": "52911465",
   "metadata": {},
   "outputs": [],
   "source": []
  }
 ],
 "metadata": {
  "kernelspec": {
   "display_name": "Python 3 (ipykernel)",
   "language": "python",
   "name": "python3"
  },
  "language_info": {
   "codemirror_mode": {
    "name": "ipython",
    "version": 3
   },
   "file_extension": ".py",
   "mimetype": "text/x-python",
   "name": "python",
   "nbconvert_exporter": "python",
   "pygments_lexer": "ipython3",
   "version": "3.8.5"
  }
 },
 "nbformat": 4,
 "nbformat_minor": 5
}
