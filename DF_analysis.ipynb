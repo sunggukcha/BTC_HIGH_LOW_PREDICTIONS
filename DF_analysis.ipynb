{
 "cells": [
  {
   "cell_type": "code",
   "execution_count": 1,
   "id": "2b8d062f",
   "metadata": {},
   "outputs": [],
   "source": [
    "import numpy as np\n",
    "import pandas as pd"
   ]
  },
  {
   "cell_type": "code",
   "execution_count": 2,
   "id": "1d86ac6a",
   "metadata": {},
   "outputs": [],
   "source": [
    "data_dir = \"default.csv\"\n",
    "chart_df = pd.read_csv(data_dir)\n",
    "\n",
    "i1 = 0\n",
    "i2 = len(chart_df)-1\n",
    "st = \"2018-02-14 14:00:00\"\n",
    "en = \"2022-04-15 23:00:00\"\n",
    "filt = []\n",
    "for index, row in chart_df.iterrows():\n",
    "    if chart_df.iloc[i1]['datetime'] < row.datetime and row.datetime < st:\n",
    "        i1 = index\n",
    "    if en < row.datetime and row.datetime < chart_df.iloc[i2]['datetime']:\n",
    "        i2 = index\n",
    "chart_df = chart_df[i1+1:i2]\n",
    "chart_df.index = range(len(chart_df))\n",
    "\n",
    "# Train High Model\n",
    "## train/validation/test split \n",
    "train_size = int(chart_df.shape[0] * 0.8) \n",
    "train_df = chart_df.iloc[:train_size,:] \n",
    "\n",
    "val_size = int(chart_df.shape[0] * 0.1) \n",
    "val_df = chart_df.iloc[train_size:train_size+val_size,:]  \n",
    "\n",
    "test_df = chart_df.iloc[train_size+val_size:, :] "
   ]
  },
  {
   "cell_type": "code",
   "execution_count": 3,
   "id": "d54c0b22",
   "metadata": {},
   "outputs": [
    {
     "name": "stderr",
     "output_type": "stream",
     "text": [
      "/tmp/ipykernel_1108/4222264495.py:1: FutureWarning: Dropping of nuisance columns in DataFrame reductions (with 'numeric_only=None') is deprecated; in a future version this will raise TypeError.  Select only valid columns before calling the reduction.\n",
      "  test_df.mean()\n"
     ]
    },
    {
     "data": {
      "text/plain": [
       "months              5.190581\n",
       "days               15.616648\n",
       "hours              10.010953\n",
       "high_delta          0.010297\n",
       "low_delta          -0.010738\n",
       "bop                -0.003335\n",
       "ebsw               -0.039939\n",
       "cmf                -0.013826\n",
       "rsi/100             0.480458\n",
       "high/low            1.021404\n",
       "close/open          0.999596\n",
       "high/open           1.010318\n",
       "low/open            0.989265\n",
       "hwma/close          0.999288\n",
       "linreg/close        1.000630\n",
       "open_change_1       0.999590\n",
       "high_change_1       0.999581\n",
       "low_change_1        0.999618\n",
       "close_change_1      0.999594\n",
       "volume_change_1     1.139709\n",
       "vwap_change_1       0.999541\n",
       "open_change_2       0.999184\n",
       "high_change_2       0.999170\n",
       "low_change_2        0.999225\n",
       "close_change_2      0.999192\n",
       "volume_change_2     1.207779\n",
       "vwap_change_2       0.999108\n",
       "open_change_3       0.998770\n",
       "high_change_3       0.998763\n",
       "low_change_3        0.998831\n",
       "close_change_3      0.998787\n",
       "volume_change_3     1.236630\n",
       "vwap_change_3       0.998686\n",
       "dtype: float64"
      ]
     },
     "execution_count": 3,
     "metadata": {},
     "output_type": "execute_result"
    }
   ],
   "source": [
    "test_df.mean()"
   ]
  },
  {
   "cell_type": "code",
   "execution_count": 4,
   "id": "6ce2f614",
   "metadata": {},
   "outputs": [
    {
     "name": "stderr",
     "output_type": "stream",
     "text": [
      "/tmp/ipykernel_1108/3238480427.py:1: FutureWarning: Dropping of nuisance columns in DataFrame reductions (with 'numeric_only=None') is deprecated; in a future version this will raise TypeError.  Select only valid columns before calling the reduction.\n",
      "  test_df.std()\n"
     ]
    },
    {
     "data": {
      "text/plain": [
       "months             4.429620\n",
       "days               8.722439\n",
       "hours              6.839313\n",
       "high_delta         0.009982\n",
       "low_delta          0.011672\n",
       "bop                0.478144\n",
       "ebsw               0.820774\n",
       "cmf                0.120578\n",
       "rsi/100            0.128547\n",
       "high/low           0.014430\n",
       "close/open         0.013903\n",
       "high/open          0.009986\n",
       "low/open           0.011673\n",
       "hwma/close         0.028935\n",
       "linreg/close       0.016865\n",
       "open_change_1      0.013902\n",
       "high_change_1      0.013184\n",
       "low_change_1       0.015137\n",
       "close_change_1     0.013903\n",
       "volume_change_1    0.678738\n",
       "vwap_change_1      0.010508\n",
       "open_change_2      0.020046\n",
       "high_change_2      0.019271\n",
       "low_change_2       0.021443\n",
       "close_change_2     0.020047\n",
       "volume_change_2    0.832192\n",
       "vwap_change_2      0.016591\n",
       "open_change_3      0.024715\n",
       "high_change_3      0.023806\n",
       "low_change_3       0.026562\n",
       "close_change_3     0.024717\n",
       "volume_change_3    0.909212\n",
       "vwap_change_3      0.021641\n",
       "dtype: float64"
      ]
     },
     "execution_count": 4,
     "metadata": {},
     "output_type": "execute_result"
    }
   ],
   "source": [
    "test_df.std()"
   ]
  },
  {
   "cell_type": "code",
   "execution_count": 7,
   "id": "c52f00da",
   "metadata": {},
   "outputs": [
    {
     "name": "stdout",
     "output_type": "stream",
     "text": [
      "months                5.190581\n",
      "days                 15.616648\n",
      "hours                10.010953\n",
      "high_delta            0.010297\n",
      "low_delta            -0.010738\n",
      "bop                  -0.003335\n",
      "ebsw                 -0.039939\n",
      "cmf                  -0.013826\n",
      "rsi/100               0.480458\n",
      "high/low              1.021404\n",
      "close/open            0.999596\n",
      "high/open             1.010318\n",
      "low/open              0.989265\n",
      "hwma/close            0.999288\n",
      "linreg/close          1.000630\n",
      "open_change_1         0.999590\n",
      "high_change_1         0.999581\n",
      "low_change_1          0.999618\n",
      "close_change_1        0.999594\n",
      "volume_change_1       1.139709\n",
      "vwap_change_1         0.999541\n",
      "open_change_2         0.999184\n",
      "high_change_2         0.999170\n",
      "low_change_2          0.999225\n",
      "close_change_2        0.999192\n",
      "volume_change_2       1.207779\n",
      "vwap_change_2         0.999108\n",
      "open_change_3         0.998770\n",
      "high_change_3         0.998763\n",
      "low_change_3          0.998831\n",
      "close_change_3        0.998787\n",
      "volume_change_3       1.236630\n",
      "vwap_change_3         0.998686\n",
      "high_delta_square     0.000206\n",
      "low_delta_square      0.000251\n",
      "dtype: float64\n"
     ]
    },
    {
     "name": "stderr",
     "output_type": "stream",
     "text": [
      "/tmp/ipykernel_1108/3535108496.py:1: SettingWithCopyWarning: \n",
      "A value is trying to be set on a copy of a slice from a DataFrame.\n",
      "Try using .loc[row_indexer,col_indexer] = value instead\n",
      "\n",
      "See the caveats in the documentation: https://pandas.pydata.org/pandas-docs/stable/user_guide/indexing.html#returning-a-view-versus-a-copy\n",
      "  test_df['high_delta_square'] = np.power( test_df['high_delta'], 2 )\n",
      "/tmp/ipykernel_1108/3535108496.py:2: SettingWithCopyWarning: \n",
      "A value is trying to be set on a copy of a slice from a DataFrame.\n",
      "Try using .loc[row_indexer,col_indexer] = value instead\n",
      "\n",
      "See the caveats in the documentation: https://pandas.pydata.org/pandas-docs/stable/user_guide/indexing.html#returning-a-view-versus-a-copy\n",
      "  test_df['low_delta_square'] = np.power( test_df['low_delta'], 2 )\n",
      "/tmp/ipykernel_1108/3535108496.py:3: FutureWarning: Dropping of nuisance columns in DataFrame reductions (with 'numeric_only=None') is deprecated; in a future version this will raise TypeError.  Select only valid columns before calling the reduction.\n",
      "  print(test_df.mean())\n"
     ]
    }
   ],
   "source": [
    "test_df['high_delta_square'] = np.power( test_df['high_delta'], 2 )\n",
    "test_df['low_delta_square'] = np.power( test_df['low_delta'], 2 )\n",
    "print(test_df.mean())"
   ]
  }
 ],
 "metadata": {
  "kernelspec": {
   "display_name": "Python 3 (ipykernel)",
   "language": "python",
   "name": "python3"
  },
  "language_info": {
   "codemirror_mode": {
    "name": "ipython",
    "version": 3
   },
   "file_extension": ".py",
   "mimetype": "text/x-python",
   "name": "python",
   "nbconvert_exporter": "python",
   "pygments_lexer": "ipython3",
   "version": "3.8.5"
  }
 },
 "nbformat": 4,
 "nbformat_minor": 5
}
